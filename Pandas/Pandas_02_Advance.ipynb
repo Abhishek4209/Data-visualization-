{
 "cells": [
  {
   "attachments": {},
   "cell_type": "markdown",
   "metadata": {},
   "source": [
    "# **Pandas Advance:-**"
   ]
  },
  {
   "cell_type": "code",
   "execution_count": 1,
   "metadata": {},
   "outputs": [],
   "source": [
    "import pandas as pd"
   ]
  },
  {
   "cell_type": "code",
   "execution_count": 2,
   "metadata": {},
   "outputs": [
    {
     "data": {
      "text/plain": [
       "Index(['ID', 'Date House was Sold', 'Sale Price', 'No of Bedrooms',\n",
       "       'No of Bathrooms', 'Flat Area (in Sqft)', 'Lot Area (in Sqft)',\n",
       "       'No of Floors', 'Waterfront View', 'No of Times Visited',\n",
       "       'Condition of the House', 'Overall Grade',\n",
       "       'Area of the House from Basement (in Sqft)', 'Basement Area (in Sqft)',\n",
       "       'Age of House (in Years)', 'Renovated Year', 'Zipcode', 'Latitude',\n",
       "       'Longitude', 'Living Area after Renovation (in Sqft)',\n",
       "       'Lot Area after Renovation (in Sqft)'],\n",
       "      dtype='object')"
      ]
     },
     "execution_count": 2,
     "metadata": {},
     "output_type": "execute_result"
    }
   ],
   "source": [
    "df=pd.read_csv(\"Raw_Housing_Prices.csv\")\n",
    "df.columns"
   ]
  },
  {
   "cell_type": "code",
   "execution_count": 3,
   "metadata": {},
   "outputs": [
    {
     "data": {
      "text/plain": [
       "0     14 October 2017\n",
       "1    14 December 2017\n",
       "2    15 February 2016\n",
       "3    14 December 2017\n",
       "4    15 February 2016\n",
       "5         14 May 2017\n",
       "6        14 June 2017\n",
       "7     15 January 2016\n",
       "8       15 April 2016\n",
       "9       15 March 2016\n",
       "Name: Date House was Sold, dtype: object"
      ]
     },
     "execution_count": 3,
     "metadata": {},
     "output_type": "execute_result"
    }
   ],
   "source": [
    "s=df[\"Date House was Sold\"][0:10]\n",
    "s"
   ]
  },
  {
   "cell_type": "code",
   "execution_count": 4,
   "metadata": {},
   "outputs": [
    {
     "data": {
      "text/plain": [
       "a     14 October 2017\n",
       "b    14 December 2017\n",
       "c    15 February 2016\n",
       "d    14 December 2017\n",
       "e    15 February 2016\n",
       "f         14 May 2017\n",
       "g        14 June 2017\n",
       "h     15 January 2016\n",
       "i       15 April 2016\n",
       "j       15 March 2016\n",
       "dtype: object"
      ]
     },
     "execution_count": 4,
     "metadata": {},
     "output_type": "execute_result"
    }
   ],
   "source": [
    "l=[\"a\", \"b\", \"c\", \"d\", \"e\",\"f\",\"g\", \"h\", \"i\", \"j\"]\n",
    "s1=pd.Series(list(s),index=l)\n",
    "s1"
   ]
  },
  {
   "cell_type": "code",
   "execution_count": 5,
   "metadata": {},
   "outputs": [
    {
     "data": {
      "text/plain": [
       "'14 October 2017'"
      ]
     },
     "execution_count": 5,
     "metadata": {},
     "output_type": "execute_result"
    }
   ],
   "source": [
    "s[0]"
   ]
  },
  {
   "cell_type": "code",
   "execution_count": 6,
   "metadata": {},
   "outputs": [
    {
     "data": {
      "text/plain": [
       "'14 December 2017'"
      ]
     },
     "execution_count": 6,
     "metadata": {},
     "output_type": "execute_result"
    }
   ],
   "source": [
    "s[1]"
   ]
  },
  {
   "cell_type": "code",
   "execution_count": 7,
   "metadata": {},
   "outputs": [
    {
     "data": {
      "text/plain": [
       "'14 October 2017'"
      ]
     },
     "execution_count": 7,
     "metadata": {},
     "output_type": "execute_result"
    }
   ],
   "source": [
    "s1[0]"
   ]
  },
  {
   "cell_type": "code",
   "execution_count": 8,
   "metadata": {},
   "outputs": [
    {
     "name": "stdout",
     "output_type": "stream",
     "text": [
      "14 October 2017\n",
      "14 December 2017\n",
      "15 February 2016\n",
      "14 December 2017\n",
      "15 February 2016\n",
      "14 May 2017\n",
      "14 June 2017\n",
      "15 January 2016\n",
      "15 April 2016\n",
      "15 March 2016\n"
     ]
    }
   ],
   "source": [
    "for i in range(len(s1)):\n",
    "    print(s1[i])"
   ]
  },
  {
   "cell_type": "code",
   "execution_count": null,
   "metadata": {},
   "outputs": [],
   "source": [
    " "
   ]
  }
 ],
 "metadata": {
  "kernelspec": {
   "display_name": "Python 3",
   "language": "python",
   "name": "python3"
  },
  "language_info": {
   "codemirror_mode": {
    "name": "ipython",
    "version": 3
   },
   "file_extension": ".py",
   "mimetype": "text/x-python",
   "name": "python",
   "nbconvert_exporter": "python",
   "pygments_lexer": "ipython3",
   "version": "3.11.5"
  },
  "orig_nbformat": 4
 },
 "nbformat": 4,
 "nbformat_minor": 2
}
