{
 "cells": [
  {
   "cell_type": "markdown",
   "metadata": {},
   "source": [
    "# **Bokeh Assignment Questions:-**"
   ]
  },
  {
   "cell_type": "markdown",
   "metadata": {},
   "source": [
    "## **Q1:-**\n",
    "### **How can you create a Bokeh plot using Python code?**"
   ]
  },
  {
   "cell_type": "code",
   "execution_count": 1,
   "metadata": {},
   "outputs": [],
   "source": [
    "from bokeh.plotting import figure, show, output_file\n",
    "from bokeh.models import ColumnDataSource\n",
    "\n",
    "# Create some sample data\n",
    "x = [1, 2, 3, 4, 5]\n",
    "y = [6, 7, 2, 4, 9]\n",
    "\n",
    "# Create a ColumnDataSource\n",
    "source = ColumnDataSource(data=dict(x=x, y=y))\n",
    "\n",
    "# Create a Bokeh figure\n",
    "p = figure(title=\"Scatter Plot Example\", x_axis_label=\"X-axis\", y_axis_label=\"Y-axis\")\n",
    "\n",
    "# Add a circle glyph to the figure\n",
    "p.circle('x', 'y', source=source, size=10, color=\"blue\", alpha=0.5)\n",
    "\n",
    "# Set the output file\n",
    "output_file(\"scatter_plot.html\")\n",
    "\n",
    "# Show the plot\n",
    "show(p)"
   ]
  },
  {
   "cell_type": "markdown",
   "metadata": {},
   "source": [
    "## **Q2:-** \n",
    "### **What are glyphs in Bokeh, and how can you add them to a Bokeh plot? Explain with an example.**"
   ]
  },
  {
   "cell_type": "markdown",
   "metadata": {},
   "source": [
    "### **Ans:-**"
   ]
  },
  {
   "cell_type": "markdown",
   "metadata": {},
   "source": [
    "### **In Bokeh, glyphs are geometric shapes that you can add to a plot to represent data points or other visual elements. Glyphs allow you to create various types of visualizations, such as scatter plots, line charts, bar charts, and more. Bokeh provides a wide range of glyph types to suit different visualization needs.**"
   ]
  },
  {
   "cell_type": "code",
   "execution_count": 2,
   "metadata": {},
   "outputs": [],
   "source": [
    "from bokeh.plotting import figure, show\n",
    "\n",
    "# Create a Bokeh figure\n",
    "p = figure(title=\"Example Glyphs\")\n",
    "\n",
    "# Example 1: Adding circle glyphs\n",
    "x1 = [1, 2, 3, 4, 5]\n",
    "y1 = [6, 7, 2, 4, 5]\n",
    "p.circle(x1, y1, size=10, color=\"blue\", alpha=0.5, legend_label=\"Circles\")\n",
    "\n",
    "# Example 2: Adding line glyphs\n",
    "x2 = [1, 2, 3, 4, 5]\n",
    "y2 = [5, 4, 3, 2, 1]\n",
    "p.line(x2, y2, line_width=2, color=\"red\", legend_label=\"Line\")\n",
    "\n",
    "# Example 3: Adding rectangle glyphs\n",
    "x3 = [2, 4, 6, 8, 10]\n",
    "y3 = [8, 6, 4, 2, 0]\n",
    "p.rect(x3, y3, width=1, height=1, fill_color=\"green\", line_color=\"black\", legend_label=\"Rectangles\")\n",
    "\n",
    "# Customize the plot\n",
    "p.legend.location = \"top_left\"\n",
    "\n",
    "# Show the plot\n",
    "show(p)"
   ]
  },
  {
   "cell_type": "markdown",
   "metadata": {},
   "source": [
    "## **Q3:-** \n",
    "### **How can you customize the appearance of a Bokeh plot, including the axes, title, and legend?**"
   ]
  },
  {
   "cell_type": "markdown",
   "metadata": {},
   "source": [
    "## **Ans:-**"
   ]
  },
  {
   "cell_type": "markdown",
   "metadata": {},
   "source": [
    "## **Customizing the Plot::-**\n"
   ]
  },
  {
   "cell_type": "code",
   "execution_count": 3,
   "metadata": {},
   "outputs": [],
   "source": [
    "p = figure(title=\"Custom Plot Title\")"
   ]
  },
  {
   "cell_type": "code",
   "execution_count": 4,
   "metadata": {},
   "outputs": [],
   "source": [
    "p = figure(background_fill_color=\"lightgray\")"
   ]
  },
  {
   "cell_type": "code",
   "execution_count": 5,
   "metadata": {},
   "outputs": [],
   "source": [
    "p = figure(border_fill_color=\"white\", border_fill_alpha=0.5)"
   ]
  },
  {
   "cell_type": "markdown",
   "metadata": {},
   "source": [
    "## **Customizing Axes:-**"
   ]
  },
  {
   "cell_type": "code",
   "execution_count": 6,
   "metadata": {},
   "outputs": [],
   "source": [
    "p.xaxis.axis_label = \"X-axis Label\"\n",
    "p.yaxis.axis_label = \"Y-axis Label\""
   ]
  },
  {
   "cell_type": "code",
   "execution_count": 7,
   "metadata": {},
   "outputs": [],
   "source": [
    "p.xaxis.major_label_text_color = \"blue\"\n",
    "p.yaxis.major_tick_line_color = \"red\""
   ]
  },
  {
   "cell_type": "markdown",
   "metadata": {},
   "source": [
    "## **Customizing Legend:-**"
   ]
  },
  {
   "cell_type": "code",
   "execution_count": 8,
   "metadata": {},
   "outputs": [
    {
     "name": "stderr",
     "output_type": "stream",
     "text": [
      "C:\\Users\\Abhi\\AppData\\Local\\Temp\\ipykernel_20244\\1058161896.py:1: UserWarning: \n",
      "You are attempting to set `plot.legend.location` on a plot that has zero legends added, this will have no effect.\n",
      "\n",
      "Before legend properties can be set, you must add a Legend explicitly, or call a glyph method with a legend parameter set.\n",
      "\n",
      "  p.legend.location = \"top_left\"\n"
     ]
    }
   ],
   "source": [
    "p.legend.location = \"top_left\""
   ]
  },
  {
   "cell_type": "code",
   "execution_count": 9,
   "metadata": {},
   "outputs": [
    {
     "name": "stderr",
     "output_type": "stream",
     "text": [
      "C:\\Users\\Abhi\\AppData\\Local\\Temp\\ipykernel_20244\\2352312059.py:1: UserWarning: \n",
      "You are attempting to set `plot.legend.title` on a plot that has zero legends added, this will have no effect.\n",
      "\n",
      "Before legend properties can be set, you must add a Legend explicitly, or call a glyph method with a legend parameter set.\n",
      "\n",
      "  p.legend.title = \"Legend Title\"\n"
     ]
    }
   ],
   "source": [
    "p.legend.title = \"Legend Title\""
   ]
  },
  {
   "cell_type": "code",
   "execution_count": 10,
   "metadata": {},
   "outputs": [
    {
     "name": "stderr",
     "output_type": "stream",
     "text": [
      "C:\\Users\\Abhi\\AppData\\Local\\Temp\\ipykernel_20244\\4045818947.py:1: UserWarning: \n",
      "You are attempting to set `plot.legend.background_fill_color` on a plot that has zero legends added, this will have no effect.\n",
      "\n",
      "Before legend properties can be set, you must add a Legend explicitly, or call a glyph method with a legend parameter set.\n",
      "\n",
      "  p.legend.background_fill_color = \"lightgray\"\n"
     ]
    }
   ],
   "source": [
    "p.legend.background_fill_color = \"lightgray\""
   ]
  },
  {
   "cell_type": "code",
   "execution_count": 11,
   "metadata": {},
   "outputs": [
    {
     "name": "stderr",
     "output_type": "stream",
     "text": [
      "C:\\Users\\Abhi\\AppData\\Local\\Temp\\ipykernel_20244\\637265571.py:1: UserWarning: \n",
      "You are attempting to set `plot.legend.border_line_color` on a plot that has zero legends added, this will have no effect.\n",
      "\n",
      "Before legend properties can be set, you must add a Legend explicitly, or call a glyph method with a legend parameter set.\n",
      "\n",
      "  p.legend.border_line_color = \"black\"\n",
      "C:\\Users\\Abhi\\AppData\\Local\\Temp\\ipykernel_20244\\637265571.py:2: UserWarning: \n",
      "You are attempting to set `plot.legend.border_line_width` on a plot that has zero legends added, this will have no effect.\n",
      "\n",
      "Before legend properties can be set, you must add a Legend explicitly, or call a glyph method with a legend parameter set.\n",
      "\n",
      "  p.legend.border_line_width = 1\n"
     ]
    }
   ],
   "source": [
    "p.legend.border_line_color = \"black\"\n",
    "p.legend.border_line_width = 1"
   ]
  },
  {
   "cell_type": "markdown",
   "metadata": {},
   "source": [
    "## **Q4:-** \n",
    "### **What is a Bokeh server, and how can you use it to create interactive plots that can be updated in real time?**"
   ]
  },
  {
   "cell_type": "markdown",
   "metadata": {},
   "source": [
    "#### **The Bokeh server is a component of the Bokeh library that allows you to create interactive web applications with real-time updates. It enables you to build and deploy interactive plots, dashboards, and applications that can be shared and accessed by multiple users. With the Bokeh server, you can create dynamic visualizations that respond to user interactions and update in real-time, without requiring the page to be reloaded.**"
   ]
  },
  {
   "cell_type": "code",
   "execution_count": 12,
   "metadata": {},
   "outputs": [],
   "source": [
    "from bokeh.plotting import figure, curdoc\n",
    "from bokeh.models import ColumnDataSource\n",
    "import random\n",
    "\n",
    "# Create a Bokeh figure and data source\n",
    "source = ColumnDataSource(data={'x': [], 'y': []})\n",
    "p = figure(title=\"Real-time Data Plot\")\n",
    "p.circle(x='x', y='y', source=source)\n",
    "\n",
    "def update():\n",
    "    new_data = {'x': source.data['x'] + [random.random()],\n",
    "                'y': source.data['y'] + [random.random()]}\n",
    "    source.data = new_data\n",
    "\n",
    "curdoc().add_periodic_callback(update, 1000)  # Update data every 1 second\n",
    "\n",
    "# Add the plot to the current document\n",
    "curdoc().add_root(p)\n"
   ]
  },
  {
   "cell_type": "markdown",
   "metadata": {},
   "source": [
    "## **Q5:-** \n",
    "### **How can you embed a Bokeh plot into a web page or dashboard using Flask or Django?**"
   ]
  },
  {
   "cell_type": "code",
   "execution_count": 13,
   "metadata": {},
   "outputs": [],
   "source": [
    "from django.shortcuts import render\n",
    "from bokeh.plotting import figure\n",
    "from bokeh.embed import components\n",
    "\n",
    "def bokeh_plot(request):\n",
    "    # Create your Bokeh plot\n",
    "    plot = figure(...)\n",
    "    plot.line(...)\n",
    "\n",
    "    # Generate Bokeh components\n",
    "    script, div = components(plot)\n",
    "\n",
    "    return render(request, 'bokeh_plot.html', {'script': script, 'div': div})"
   ]
  }
 ],
 "metadata": {
  "kernelspec": {
   "display_name": "Python 3",
   "language": "python",
   "name": "python3"
  },
  "language_info": {
   "codemirror_mode": {
    "name": "ipython",
    "version": 3
   },
   "file_extension": ".py",
   "mimetype": "text/x-python",
   "name": "python",
   "nbconvert_exporter": "python",
   "pygments_lexer": "ipython3",
   "version": "3.11.5"
  },
  "orig_nbformat": 4
 },
 "nbformat": 4,
 "nbformat_minor": 2
}
